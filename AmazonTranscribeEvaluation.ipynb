{
 "cells": [
  {
   "cell_type": "markdown",
   "id": "4ec32676",
   "metadata": {},
   "source": [
    "# Evaluation of Amazon Transcribe Service\n",
    "\n",
    "This notebook contains the analysis of performance of Amazon Transcribe service. The evaluations is done based on the dataset collected by *Descript* available aat https://airtable.com/appvWk23jLudQRWKu/shr1BF9rWJsTE70zZ/tblwP2dpg02WHUA4B/viw79dPwj3BlbsKSi?blocks=hide. \n",
    "\n",
    "The notebook consists of 3 parts:\n",
    "* data collection\n",
    "* transcribing and evaluating base \n",
    "* transcribing and evaluating with potentially improved approach."
   ]
  },
  {
   "cell_type": "code",
   "execution_count": 1,
   "id": "aaee6c47-361c-4a56-92f6-360c90ca9313",
   "metadata": {},
   "outputs": [],
   "source": [
    "from transcribing_job import *\n",
    "from utilities import *\n",
    "import matplotlib.pyplot as plt\n",
    "import seaborn as sns\n",
    "from collections import defaultdict\n"
   ]
  },
  {
   "cell_type": "markdown",
   "id": "16fc9d25",
   "metadata": {},
   "source": [
    "## Data collection and analysis"
   ]
  },
  {
   "cell_type": "markdown",
   "id": "2e9fad58",
   "metadata": {},
   "source": [
    "As the response call to access the table using html was rejected (both using request library and airtable API) and the table isn't huge (consists of 46 samples with youtube links), it was collected by hand. The audios were downloaded using inspector and network links which were then stored locally. This way all audio samples were available for analysis despite some of the links were no longer available on *YouTube*. The timestamps were collected based on *YouTube* transcription service. Because of the requirements for this task an additional youtube_download.py script was created (although the audios were already available locally). All audio files were names by the Id from dataset and the audio extension. "
   ]
  },
  {
   "cell_type": "code",
   "execution_count": 2,
   "id": "ed3673dd-e310-410a-8799-bbe61f621214",
   "metadata": {},
   "outputs": [
    {
     "data": {
      "text/html": [
       "<div>\n",
       "<style scoped>\n",
       "    .dataframe tbody tr th:only-of-type {\n",
       "        vertical-align: middle;\n",
       "    }\n",
       "\n",
       "    .dataframe tbody tr th {\n",
       "        vertical-align: top;\n",
       "    }\n",
       "\n",
       "    .dataframe thead th {\n",
       "        text-align: right;\n",
       "    }\n",
       "</style>\n",
       "<table border=\"1\" class=\"dataframe\">\n",
       "  <thead>\n",
       "    <tr style=\"text-align: right;\">\n",
       "      <th></th>\n",
       "      <th>Id</th>\n",
       "      <th>Tags</th>\n",
       "      <th>Youtube Link</th>\n",
       "      <th>Reference Transcript</th>\n",
       "      <th>Title</th>\n",
       "      <th>Duration</th>\n",
       "      <th>Start</th>\n",
       "      <th>Availability</th>\n",
       "    </tr>\n",
       "  </thead>\n",
       "  <tbody>\n",
       "    <tr>\n",
       "      <th>0</th>\n",
       "      <td>1</td>\n",
       "      <td>Unscripted Broadcast</td>\n",
       "      <td>https://www.youtube.com/watch?v=9HPshG5IlcI</td>\n",
       "      <td>\\nLet's bring in Phil Mackie, who is there at ...</td>\n",
       "      <td>Trump arrives at Blenheim Palace - BBC News</td>\n",
       "      <td>04:57</td>\n",
       "      <td>00:45</td>\n",
       "      <td>True</td>\n",
       "    </tr>\n",
       "    <tr>\n",
       "      <th>1</th>\n",
       "      <td>2</td>\n",
       "      <td>Unscripted Broadcast</td>\n",
       "      <td>https://www.youtube.com/watch?v=qmgVQlSzYhw</td>\n",
       "      <td>We are getting reports that 11 people have bee...</td>\n",
       "      <td>Thailand Cave rescue: '11th person brought out...</td>\n",
       "      <td>05:04</td>\n",
       "      <td>00:00</td>\n",
       "      <td>True</td>\n",
       "    </tr>\n",
       "    <tr>\n",
       "      <th>2</th>\n",
       "      <td>3</td>\n",
       "      <td>Unscripted Broadcast</td>\n",
       "      <td>https://www.youtube.com/watch?v=E2h4-I2OLgA</td>\n",
       "      <td>I know that it's something you want to talk ab...</td>\n",
       "      <td>Money Clinic: Miami - BBC News</td>\n",
       "      <td>04:55</td>\n",
       "      <td>03:30</td>\n",
       "      <td>True</td>\n",
       "    </tr>\n",
       "    <tr>\n",
       "      <th>3</th>\n",
       "      <td>4</td>\n",
       "      <td>Unscripted Broadcast</td>\n",
       "      <td>https://www.youtube.com/watch?v=jRJyyLcKf1g</td>\n",
       "      <td>Someone who will be committed to rolling back ...</td>\n",
       "      <td>Sen. Warren: President Donald Trump SCOTUS Nom...</td>\n",
       "      <td>04:58</td>\n",
       "      <td>03:37</td>\n",
       "      <td>True</td>\n",
       "    </tr>\n",
       "    <tr>\n",
       "      <th>4</th>\n",
       "      <td>5</td>\n",
       "      <td>Unscripted Broadcast</td>\n",
       "      <td>https://www.youtube.com/watch?v=az9td4mARt0</td>\n",
       "      <td>While President Trump weighs his Supreme Court...</td>\n",
       "      <td>Gorka: Dems Upset Over SCOTUS Pick Because It ...</td>\n",
       "      <td>05:00</td>\n",
       "      <td>00:00</td>\n",
       "      <td>True</td>\n",
       "    </tr>\n",
       "  </tbody>\n",
       "</table>\n",
       "</div>"
      ],
      "text/plain": [
       "   Id                  Tags                                 Youtube Link  \\\n",
       "0   1  Unscripted Broadcast  https://www.youtube.com/watch?v=9HPshG5IlcI   \n",
       "1   2  Unscripted Broadcast  https://www.youtube.com/watch?v=qmgVQlSzYhw   \n",
       "2   3  Unscripted Broadcast  https://www.youtube.com/watch?v=E2h4-I2OLgA   \n",
       "3   4  Unscripted Broadcast  https://www.youtube.com/watch?v=jRJyyLcKf1g   \n",
       "4   5  Unscripted Broadcast  https://www.youtube.com/watch?v=az9td4mARt0   \n",
       "\n",
       "                                Reference Transcript  \\\n",
       "0  \\nLet's bring in Phil Mackie, who is there at ...   \n",
       "1  We are getting reports that 11 people have bee...   \n",
       "2  I know that it's something you want to talk ab...   \n",
       "3  Someone who will be committed to rolling back ...   \n",
       "4  While President Trump weighs his Supreme Court...   \n",
       "\n",
       "                                              Title  Duration  Start  \\\n",
       "0        Trump arrives at Blenheim Palace - BBC News    04:57  00:45   \n",
       "1  Thailand Cave rescue: '11th person brought out...    05:04  00:00   \n",
       "2                     Money Clinic: Miami - BBC News    04:55  03:30   \n",
       "3  Sen. Warren: President Donald Trump SCOTUS Nom...    04:58  03:37   \n",
       "4  Gorka: Dems Upset Over SCOTUS Pick Because It ...    05:00  00:00   \n",
       "\n",
       "   Availability  \n",
       "0          True  \n",
       "1          True  \n",
       "2          True  \n",
       "3          True  \n",
       "4          True  "
      ]
     },
     "metadata": {},
     "output_type": "display_data"
    },
    {
     "data": {
      "text/plain": [
       "(46, 8)"
      ]
     },
     "execution_count": 2,
     "metadata": {},
     "output_type": "execute_result"
    }
   ],
   "source": [
    "df = pd.read_csv('data/samples.csv')\n",
    "display(df.head())\n",
    "df.shape"
   ]
  },
  {
   "cell_type": "markdown",
   "id": "c08761fd",
   "metadata": {},
   "source": [
    "Let's check how many of those audios are still available on *YouTube*. And inspect the tags."
   ]
  },
  {
   "cell_type": "code",
   "execution_count": 3,
   "id": "911c4513",
   "metadata": {},
   "outputs": [
    {
     "data": {
      "text/plain": [
       "Availability\n",
       "True     38\n",
       "False     8\n",
       "Name: count, dtype: int64"
      ]
     },
     "execution_count": 3,
     "metadata": {},
     "output_type": "execute_result"
    }
   ],
   "source": [
    "df['Availability'].value_counts()"
   ]
  },
  {
   "cell_type": "markdown",
   "id": "5ea349e7",
   "metadata": {},
   "source": [
    "Using the network from inspector we were able to collect 8 more samples that are not available."
   ]
  },
  {
   "cell_type": "code",
   "execution_count": 4,
   "id": "f6aaae78",
   "metadata": {},
   "outputs": [
    {
     "data": {
      "image/png": "[encoded data removed]",
      "text/plain": [
       "<Figure size 640x480 with 1 Axes>"
      ]
     },
     "metadata": {},
     "output_type": "display_data"
    }
   ],
   "source": [
    "df['Tags'].value_counts().plot(kind='barh')\n",
    "plt.title(\"Tag Distribution\")\n",
    "plt.xlabel('Count')\n",
    "sns.despine()"
   ]
  },
  {
   "cell_type": "markdown",
   "id": "fe0b1078",
   "metadata": {},
   "source": [
    "The categories of audio had samples with a variety of different speakers (including some with accents), pace and topic discussed. There are 13 samples from phone and unscripted broadcast and 10from scripted broadcast and meetings.\n",
    "\n",
    "* Scripted broadcast (like news anchors reading from teleprompters, and audiobook recordings)\n",
    "* Unscripted broadcast (like podcasts, and TV interview/debate shows)\n",
    "* Telephone and VoIP calls\n",
    "* Meetings\n",
    "\n",
    "\n",
    "Through the text analysis there were some changes made to the reference transcript as: \n",
    "* addition of one sentence in the end in sample 26\n",
    "* some minor mistakes in were the space should be placed\n",
    "* replacement of wrong letteres.\n",
    "\n",
    "Let's see the lengths of the audios."
   ]
  },
  {
   "cell_type": "code",
   "execution_count": 5,
   "id": "90ed9e05",
   "metadata": {},
   "outputs": [
    {
     "data": {
      "text/plain": [
       "count                               46\n",
       "mean     1900-01-01 00:04:45.282608896\n",
       "min                1900-01-01 00:01:54\n",
       "25%                1900-01-01 00:04:50\n",
       "50%         1900-01-01 00:04:56.500000\n",
       "75%                1900-01-01 00:05:00\n",
       "max                1900-01-01 00:05:15\n",
       "Name: Duration, dtype: object"
      ]
     },
     "execution_count": 5,
     "metadata": {},
     "output_type": "execute_result"
    }
   ],
   "source": [
    "df['Duration'].apply(lambda x: datetime.strptime(x, \"%M:%S\")).describe()\n"
   ]
  },
  {
   "cell_type": "markdown",
   "id": "c81ae10b",
   "metadata": {},
   "source": [
    "The shortest clip has almost 2 mins and the longest just above 5 mins. Most of the clips are close to 5 mins which makes almost 230min of audio to transcribe."
   ]
  },
  {
   "cell_type": "markdown",
   "id": "f77b3379",
   "metadata": {},
   "source": [
    "If we wouldn't have the audio data we would run the below cell."
   ]
  },
  {
   "cell_type": "code",
   "execution_count": 6,
   "id": "ed9f4db1",
   "metadata": {},
   "outputs": [],
   "source": [
    "# from youtube_download import download_yt_audio\n",
    "\n",
    "# # Get needed columns\n",
    "# download_col = ['Id', 'Youtube Link', 'Duration', 'Start']\n",
    "# df_yt = df[download_col].loc[df['Availability']==True]\n",
    "# df_yt['Start Seconds'] = df_yt['Start'].map(change_to_seconds)\n",
    "# df_yt['End Seconds'] = df_yt['Duration'].map(change_to_seconds) + df_yt['Start Seconds']\n",
    "\n",
    "# # Prepare variables\n",
    "# urls = df_yt['Youtube Link'].tolist()\n",
    "# file_names = [str(id) + \".mp4\" for id in df_yt['Id'].tolist()]\n",
    "# starts = df_yt['Start Seconds'].tolist()\n",
    "# ends = df_yt['End Seconds'].tolist()\n",
    "# output_folder = 'audios'\n",
    "\n",
    "# download_yt_audio(urls, file_names, starts, ends, output_folder)\n"
   ]
  },
  {
   "cell_type": "markdown",
   "id": "18192f2a",
   "metadata": {},
   "source": [
    "## Transcription job and analysis of results"
   ]
  },
  {
   "cell_type": "markdown",
   "id": "70f614e5",
   "metadata": {},
   "source": [
    "### Transcription"
   ]
  },
  {
   "cell_type": "markdown",
   "id": "6a6353d9",
   "metadata": {},
   "source": [
    "For the first run we will:\n",
    "* get the access at the specified region\n",
    "* initialize S3 and Amazon Transcribe Client\n",
    "* initialize bucket with a given name\n",
    "* load the samples from a given location to the folder with specified name\n",
    "* perform transcription and store the output in specified folder in the bucket\n",
    "* load the json files to specified location locally\n",
    "* create csv file with id and output"
   ]
  },
  {
   "cell_type": "code",
   "execution_count": 7,
   "id": "3af70b18",
   "metadata": {},
   "outputs": [],
   "source": [
    "region = 'eu-west-2'\n",
    "access_file = \"gosiak_accessKeys.csv\"\n",
    "access_key, secret_key = get_access_credentials(access_file)\n",
    "access = {'aws_access_key_id': access_key, \n",
    "          'aws_secret_access_key': secret_key, \n",
    "          'region_name': region}\n",
    "s3_client =  boto3.client('s3', **access)\n",
    "transcribe_client = boto3.client('transcribe', **access)"
   ]
  },
  {
   "cell_type": "code",
   "execution_count": 8,
   "id": "e53fe17d",
   "metadata": {},
   "outputs": [],
   "source": [
    "bucket_name = 'turingcollegebiomapas'\n",
    "input_folder = 'data/mp3/'\n",
    "output_folder = 'transcriptions/'\n",
    "transcribe_csv = 'data/transcript.csv'\n",
    "version = \"A\"  \n",
    "format = \"m4a\"\n",
    "lang_code = 'en-US'"
   ]
  },
  {
   "cell_type": "code",
   "execution_count": 9,
   "id": "31cf9167",
   "metadata": {},
   "outputs": [],
   "source": [
    "check_assertions(input_folder, output_folder, version, format)"
   ]
  },
  {
   "cell_type": "code",
   "execution_count": null,
   "id": "ae02dc1c",
   "metadata": {},
   "outputs": [
    {
     "name": "stdout",
     "output_type": "stream",
     "text": [
      "   Id                                  Amazon Transcript\n",
      "0   1  Let's bring in Phil Mackie who is uh there at ...\n",
      "1  10  Do you think Mr lebron James will be patient e...\n",
      "2  11  Where does James Harden rank as a player? Not ...\n",
      "3  12  Welcome to the Undisputed podcast. I'm your ho...\n",
      "4  13  Right now, guys, start your website that you a...\n"
     ]
    }
   ],
   "source": [
    "# create_bucket(s3_client, bucket_name, region)\n",
    "# folder_upload(s3_client, bucket_name, input_folder)\n",
    "# job_count = transcribe_folder(s3_client, transcribe_client, bucket_name, \n",
    "#                   input_folder, output_folder, lang_code, format, version)\n",
    "# download_folder(s3_client, bucket_name, output_folder, job_count)\n",
    "# transcripts_to_csv(output_folder, transcribe_csv)"
   ]
  },
  {
   "cell_type": "markdown",
   "id": "9c58621d",
   "metadata": {},
   "source": [
    "### Assesment of results\n",
    "To assess the performance we will use two metrics: \n",
    "* Word Error Rate which is define as WER = insertions + deletion + substitutions/ number of words in the reference\n",
    "* Character Error Rate with does the same but taking into characters\n",
    "\n",
    "With both metrics we face a problem of treating each word, letter with the same weight although some can have same meaning and shouldn't be counted into an error.\n",
    "We will take some measures to adjust normalization to the extend the comparison in reasonable.\n",
    "\n",
    "We will also take into account information from https://blog.timbunce.org/2017/02/09/comparing-transcriptions/ that Word Error Rate for human transcript is around 5.\n"
   ]
  },
  {
   "cell_type": "markdown",
   "id": "2f32c242",
   "metadata": {},
   "source": [
    "\n",
    "Before the comparison of text we need to perform a few transformations to normalize ground true and transcriptions: \n",
    "* remove:\n",
    "    * laughing sound as this doesn't add to the value of transcribed text as is inconsistent in the ground true samples ['hahaha', 'haha', 'ha']\n",
    "    * punctuation\n",
    "    * thinking sounds: ['mhmm', 'mmm', 'mm', 'hm', 'hmm', 'mmhmm', 'um', 'uh']\n",
    "    * surprise sounds: ['ooh', 'oh', 'huh']\n",
    "    * consecutive word duplicates: in some of the scripts people were stuttering\n",
    "* replace:\n",
    "    * 'alright' to formal 'all right'\n",
    "    * replace '-' with white space -> Amazon Transcribe doesn't transcribe hyphenated words (same sense although sometimes grammatically incorrect)\n",
    "    * 'okay' with 'ok'\n",
    "    * 'gonna', 'wanna' to formal 'going to', 'want to'\n",
    "    * ''em' with 'them'\n",
    "    * 'ya' with 'yeah'\n",
    "    * shortened version like I'm to I am\n",
    "\n",
    "\n",
    "\n",
    "New columns for WER and CER will be added for cased and uncased approach. This way we would be able to establish if the model is picking up on sentences and names. We will also calculate overall WER and CER. "
   ]
  },
  {
   "cell_type": "code",
   "execution_count": 10,
   "id": "96c48c63",
   "metadata": {},
   "outputs": [],
   "source": [
    "trans = pd.read_csv('data/transcript.csv')\n",
    "df = pd.merge(df, trans, on='Id')"
   ]
  },
  {
   "cell_type": "code",
   "execution_count": 11,
   "id": "cce1f120",
   "metadata": {},
   "outputs": [],
   "source": [
    "replacements = {\n",
    "        'alright': 'all right',\n",
    "        'altogether': 'all together',\n",
    "        'okay': 'ok',\n",
    "        'gonna': 'going to',\n",
    "        'wanna': 'want to',\n",
    "        \"'em\": 'them',\n",
    "        'ya': 'yeah',\n",
    "        \"how's\": 'how is'\n",
    "    }\n",
    "\n",
    "replacements.update(en_short_forms())\n",
    "\n",
    "to_remove = ['mhmm', 'mmm', 'mm', 'hm', 'hmm', 'mmhmm',\n",
    "            'um', 'uh', 'ya', 'ooh', 'oh', 'huh', 'ah',\n",
    "              'ha', 'haha', 'hahaha']"
   ]
  },
  {
   "cell_type": "markdown",
   "id": "de595ed3",
   "metadata": {},
   "source": [
    "Using the function clean_text for normalization and functions compare_words and show_comparison for multiple examples with the code:"
   ]
  },
  {
   "cell_type": "code",
   "execution_count": 26,
   "id": "bd25e80a",
   "metadata": {},
   "outputs": [
    {
     "name": "stdout",
     "output_type": "stream",
     "text": [
      "Missing Words: {'baa', 'then', 'theres', 'push', 'marlins', 'marlin', 'making', 'bug', 'dependable',\n",
      " 'meno', 'calm', 'jennajulien10', 'esports', 'shes', 'yourself', 'crazy', 'theyre', 'leave', 'scoute\n",
      "d', '247', 'talked', 'sqarespacecomjennajulien', 'web', 'here', 'steelseries', 'keeled', 'heck', 'pr\n",
      "obably', 'beats', 'single', 'com', 'peachie', 'aries', 'how', 'man', 'well', 'kinda', 'been', 'cuz',\n",
      " 'more', 'its', 'than', 'around', 'assigned', 'before', 'peach', 'taurus', 'juliens', 'used', 'tofir\n",
      "st', 'lets', 'getquipcomjennajulien', 'watched', '“wow', 'accurate', 'come', 'got', 'talk'}\n",
      "\n",
      "Extra Words: {'julians', '7', 'steel', 'gotta', 'julien', 'watch', 'signed', 'julian', 'quipcomor', \n",
      "'book', 'genna', 'hack', 'yell', 'quip', 'tourist', 'baba', 'e', 'beach', 'squarespacecomjenna', 'bo\n",
      "s', 'marlons', 'peachy', 'series', '24', 'sports', 'still', 'killed', 'quipcom', 'mall', 'marlon', '\n",
      "seventh'}\n",
      "\n",
      "|-------------------------------------------------------------------------------------------------------|\n",
      "|               Reference Transcript               |                Amazon Transcript                   |\n",
      "|-------------------------------------------------------------------------------------------------------|\n",
      "right now guys start your web and lets talk about  | right now guys start your ___ ___ ____ ____ _____  | \n",
      "_______ ____ ___ ______ ____ __ _____ __ going to  | website that you always want to start by going to  | \n",
      "sqarespacecomjennajulien ___________________       | ________________________ squarespacecomjenna       | \n",
      "______ save 10 of your first purchase of a         | julian save 10 of your first purchase of a         | \n",
      "website or domain squarespace has 247 __ _         | website or domain squarespace has ___ 24 7         | \n",
      "customer support and many different templates to   | customer support and many different templates to   | \n",
      "help you start your dream website you will not be  | help you start your dream website you will not be  | \n",
      "disappointed also guys quick ____ the wonderful    | disappointed also guys _____ quip the wonderful    | \n",
      "toothbrush system that lives in the future         | toothbrush system that lives in the future         | \n",
      "alongside you they send you refills every month    | alongside you they send you refills every month    | \n",
      "of brush heads and right now guys it starts at     | of brush heads and right now guys it starts at     | \n",
      "just 25 and you can get your refill first on us    | just 25 and you can get your refill first on us    | \n",
      "thats what i am talking about your first refill    | thats what i am talking about your first refill    | \n",
      "of the _ brush head for free because you watched   | of ___ a brush head for free because you _______   | \n",
      "_____ this podcast go to getquipcomjennajulien     | watch this podcast go to _____________________     | \n",
      "___ _______ thats getquipcomjennajulien or ___     | get quipcom thats _____________________ __ get     | \n",
      "_________ click the link in the description i      | quipcomor click the link in the description i      | \n",
      "dont even know like where to look at you because   | dont even know ____ where to look at you because   | \n",
      "i cant see your eyes i like that stop youre        | i cant see your eyes i like that ____ _____        | \n",
      "making meno no all right _____ ___ _____ __ ___    | ______ ____ __ ___ _____ start you gotta be bos    | \n",
      "___ __ ___ __ ___ __ all right all right youre     | get it get it get it all right all right youre     | \n",
      "going to scare bob all right all right bob we      | going to scare bob all right ___ _____ bob __      | \n",
      "will leave it right there you have ___ scared him  | ____ _____ __ _____ _____ ___ ____ you scared him  | \n",
      "by setting it down we will leave it right there    | by setting it down __ ____ _____ __ _____ _____    | \n",
      "he is nervous now he is just a little baa ____     | he is nervous now he is just a little ___ baba     | \n",
      "goose i got to _____ adjust myself also guys we    | goose i ___ __ gotta adjust myself also guys we    | \n",
      "want to give a quick special shout out to our      | want to give a quick special shout out to our      | \n",
      "friends at steelseries _____ ______ who have       | friends at ___________ steel series who have       | \n",
      "provided us with the ultimate gaming materials     | provided us with the ultimate gaming materials     | \n",
      "for all of our push ______ streams and gaming      | for all of our ____ twitch streams and gaming      | \n",
      "needs they have officially partnered with our      | needs they have officially partnered with our      | \n",
      "twitch channel we are steelseries _____ ______     | twitch channel we are ___________ still series     | \n",
      "sponsored streamers now it is cuz _______ were     | sponsored streamers now it is ___ because were     | \n",
      "esports _ ______ it is based on skill alone my     | _______ e sports it is based on skill alone my     | \n",
      "skill has made it so ___ ____ ____ up next __ i    | skill has made it so you know next up next is i    | \n",
      "am going to get assigned have you been scouted     | am going to get ________ ____ ___ ____ _______     | \n",
      "wow ______ to an esports _ ______ team for sure    | ___ signed to an _______ e sports team for sure    | \n",
      "before we get look out shroud guys want to say     | ______ __ ___ look out shroud guys want to say     | \n",
      "seriously thank you to steelseries _____ ______    | seriously thank you to ___________ steel series    | \n",
      "if you are _____ needing any sort of gaming        | if ___ ___ youre needing any sort of gaming        | \n",
      "equipment headset mouse keyboard other headset     | equipment headset mouse keyboard other headset     | \n",
      "other mouse i dont know what you need steelseries  | other mouse i dont know what you need ___________  | \n",
      "_____ ______ has some of the best gaming           | steel series has some of the best gaming           | \n",
      "equipment and peripherals you can buy and you can  | equipment and peripherals you can buy and you can  | \n",
      "save 10 on us my voice just cracked by using code  | save 10 on us my voice just cracked by using code  | \n",
      "jennajulien10 _____ ______ __ thats all            | _____________ genna julien 10 thats all            | \n",
      "unofficially all right thank you guys we want to   | unofficially ___ _____ thank you guys we want to   | \n",
      "give you a special shout out because you guys are  | give you a special shout out because you guys are  | \n",
      "awesome all right your daughters being a brat      | awesome all right your daughters being a brat      | \n",
      "well you always want to let them in the podcast i  | ____ you always want to let them in the podcast _  | \n",
      "like it when theyre here and i always say no it    | ____ __ ____ ______ ____ ___ i always say no it    | \n",
      "is fun it is fun chaos look at her she just wants  | is fun it is fun chaos look at her she just wants  | \n",
      "to walk around if you step on the keyboard and     | to walk ______ __ ___ ____ on the keyboard and     | \n",
      "stop the podcast youre going to be in trouble      | stop the podcast youre going to be in trouble      | \n",
      "lady come here just dont step on the keyboard      | lady ____ ____ just dont step on the keyboard      | \n",
      "little ___ ____ what are you doing what are you    | little guy yell what are you doing what are you    | \n",
      "doing what are you doing my god can you hear       | doing what are you doing my god can you hear       | \n",
      "yourself hi peach can you hear me peach my god     | ________ __ _____ can you hear me _____ my god     | \n",
      "look at her face when she is listening do it hi    | look at her face when she is listening do it hi    | \n",
      "peachie ______ girl wow shes like what is that     | _______ peachy girl ___ ____ ____ what is that     | \n",
      "noise you dont know what that noise is it is       | noise ___ ____ ____ ____ ____ _____ __ __ __       | \n",
      "probably really loud for her ears she is a dog is  | ________ really loud for her ears she is a dog is  | \n",
      "that what she is i didnt know what ___ was all     | that what she is i didnt know what she was all     | \n",
      "these years thank you for telling me t youre _     | these years thank you for telling me t youre a     | \n",
      "shit t are you going to sit there the whole time   | shit t are you going to sit there the whole time   | \n",
      "is that how it is ____ _ ___ going to go we used   | __ ____ ___ __ __ that i was going to go we ____   | \n",
      "to ____ went out __ ______ for dinner juliens      | __ just went out to dinner for ______ _______      | \n",
      "_______ brothers birthday marlins _______          | julians brothers birthday _______ marlons          | \n",
      "birthday happy birthday marlin heck and ____ __    | birthday happy birthday ______ ____ ___ mall in    | \n",
      "___ ____ __ may you forever heck ____ on what day  | the hack or may you forever ____ hack on what day  | \n",
      "is his actual birthday it is the day the podcast   | is his actual birthday __ __ the day the podcast   | \n",
      "comes out the 7th _______ ok whats his sign        | comes out the ___ seventh ok whats his sign        | \n",
      "whatever it is right now what is it i dont know    | whatever it is right now what is it i dont know    | \n",
      "the bug what month ____ ____ is it is may 7th so   | the ___ ____ _____ book what is it is may 7th so   | \n",
      "thats his birthday hey google what sign is may     | thats his birthday hey google what sign is may     | \n",
      "7th on the website com they say that taurus ok     | 7th __ ___ _______ ___ ____ ___ ____ ______ ok     | \n",
      "marlin is the taurus ____ ______ __ _ _______ all  | ______ __ ___ ______ yeah marlon is a tourist all  | \n",
      "right then what is the taurus are you a taurus     | right ____ ____ __ ___ ______ ___ ___ _ ______     | \n",
      "____ __ _ _______ ____ _ _______ no kinda ____ __  | what is a tourist just a tourist no _____ kind of  | \n",
      "just like even keeled and calm ______ he is the    | just like even ______ ___ ____ killed he is the    | \n",
      "most theres more than that even keeled ______ guy  | most ______ ____ ____ ____ even ______ killed guy  | \n",
      "i have ever met why is that so accurate            | i have ever met why is that so ________            | \n",
      "dependable i dont know its __ __ like stupid i     | __________ i dont know ___ it is like stupid i     | \n",
      "know i feel like all the people ____ just write    | know i feel like all the people that just write    | \n",
      "it off as nonsense ____ thats fine youre entitled  | it off as nonsense like thats fine youre entitled  | \n",
      "to that i used to do that it is fine we have       | to that _ ____ __ __ ____ __ __ ____ __ ____       | \n",
      "talked about that it is just crazy every single    | ______ _____ ____ __ __ ____ _____ _____ ______    | \n",
      "when you turn into an adult ____ __ __ ____ you    | when you turn into an adult yeah it is like you    | \n",
      "realize things about people youre like “wow ___    | realize things about people youre like ____ wow    | \n",
      "that actually for some reason makes a lot of       | that actually for some reason makes a lot of       | \n",
      "sense yeah you just like take on the qualities of  | sense yeah you just like take on the qualities of  | \n",
      "your kind i am a virgo youre a virgo yeah man      | your kind i am a virgo youre a virgo ____ ___      | \n",
      "these beats _____ welcome to my channel it is      | _____ _____ beach welcome to my channel it is      | \n",
      "aries _____ season no we wanted tofirst __ ___     | _____ every season no we wanted _______ to the     | \n",
      "_____ of all something wild happened and stop __   | first of all something wild happened ___ ____ at   | \n"
     ]
    }
   ],
   "source": [
    "y_hat = clean_text(df.loc[df['Id']==13]['Amazon Transcript'].values[0], \n",
    "                   replacements, to_remove, False)\n",
    "y = clean_text(df.loc[df['Id']==13]['Reference Transcript'].values[0], \n",
    "               replacements, to_remove, False)\n",
    "\n",
    "common, missing, extra = compare_words(y.split(), y_hat.split())\n",
    "\n",
    "print_to_width(f\"Missing Words: {missing}\", 100)\n",
    "print_to_width(f\"Extra Words: {extra}\", 100)\n",
    "print_centered_columns(['Reference Transcript', 'Amazon Transcript'], width=50)\n",
    "show_comparison(y, y_hat, width=50, sidebyside=True, compact=False)"
   ]
  },
  {
   "cell_type": "markdown",
   "id": "93f488a6",
   "metadata": {},
   "source": [
    "The two most important observations so far from comparing human and model output are:\n",
    "\n",
    "* in interpretation of numbers are written differenty - the ground true would need to be based on conversions from https://docs.aws.amazon.com/transcribe/latest/dg/how-numbers.html which was partially implemented by hand\n",
    "* interstingly the model got the names of sportsmen more accurate than the ground true which was updated with the correct names.\n"
   ]
  },
  {
   "cell_type": "markdown",
   "id": "6028b787",
   "metadata": {},
   "source": [
    "To evaluate the performance lets create additional columns for extracting the statistics."
   ]
  },
  {
   "cell_type": "code",
   "execution_count": 13,
   "id": "d06457c5",
   "metadata": {},
   "outputs": [],
   "source": [
    "df['words_count'] = df['Reference Transcript'].apply(lambda x: len(clean_text(x, replacements, to_remove).split()))\n",
    "df['letter_count'] = df['Reference Transcript'].apply(lambda x: len(clean_text(x, replacements, to_remove)))\n",
    "df['cased_wer_1'] = df.apply(lambda row: calculate_wer(row['Reference Transcript'], row['Amazon Transcript'],\n",
    "                                                       replacements, to_remove, True), axis=1)\n",
    "df['cased_cer_1'] = df.apply(lambda row: calculate_cer(row['Reference Transcript'], row['Amazon Transcript'],\n",
    "                                                       replacements, to_remove, True), axis=1)\n",
    "df['uncased_wer_1'] = df.apply(lambda row: calculate_wer(row['Reference Transcript'], row['Amazon Transcript'],\n",
    "                                                         replacements, to_remove,  False), axis=1)\n",
    "df['uncased_cer_1'] = df.apply(lambda row: calculate_cer(row['Reference Transcript'], row['Amazon Transcript'],\n",
    "                                                         replacements, to_remove, False), axis=1)"
   ]
  },
  {
   "cell_type": "code",
   "execution_count": 14,
   "id": "5cef004f",
   "metadata": {},
   "outputs": [
    {
     "data": {
      "text/html": [
       "<div>\n",
       "<style scoped>\n",
       "    .dataframe tbody tr th:only-of-type {\n",
       "        vertical-align: middle;\n",
       "    }\n",
       "\n",
       "    .dataframe tbody tr th {\n",
       "        vertical-align: top;\n",
       "    }\n",
       "\n",
       "    .dataframe thead th {\n",
       "        text-align: right;\n",
       "    }\n",
       "</style>\n",
       "<table border=\"1\" class=\"dataframe\">\n",
       "  <thead>\n",
       "    <tr style=\"text-align: right;\">\n",
       "      <th></th>\n",
       "      <th>Id</th>\n",
       "      <th>Tags</th>\n",
       "      <th>Youtube Link</th>\n",
       "      <th>Reference Transcript</th>\n",
       "      <th>Title</th>\n",
       "      <th>Duration</th>\n",
       "      <th>Start</th>\n",
       "      <th>Availability</th>\n",
       "      <th>Amazon Transcript</th>\n",
       "      <th>words_count</th>\n",
       "      <th>letter_count</th>\n",
       "      <th>cased_wer_1</th>\n",
       "      <th>cased_cer_1</th>\n",
       "      <th>uncased_wer_1</th>\n",
       "      <th>uncased_cer_1</th>\n",
       "    </tr>\n",
       "  </thead>\n",
       "  <tbody>\n",
       "    <tr>\n",
       "      <th>0</th>\n",
       "      <td>1</td>\n",
       "      <td>Unscripted Broadcast</td>\n",
       "      <td>https://www.youtube.com/watch?v=9HPshG5IlcI</td>\n",
       "      <td>\\nLet's bring in Phil Mackie, who is there at ...</td>\n",
       "      <td>Trump arrives at Blenheim Palace - BBC News</td>\n",
       "      <td>04:57</td>\n",
       "      <td>00:45</td>\n",
       "      <td>True</td>\n",
       "      <td>Let's bring in Phil Mackie who is uh there at ...</td>\n",
       "      <td>936</td>\n",
       "      <td>4977</td>\n",
       "      <td>11.54</td>\n",
       "      <td>5.42</td>\n",
       "      <td>7.16</td>\n",
       "      <td>4.54</td>\n",
       "    </tr>\n",
       "    <tr>\n",
       "      <th>1</th>\n",
       "      <td>2</td>\n",
       "      <td>Unscripted Broadcast</td>\n",
       "      <td>https://www.youtube.com/watch?v=qmgVQlSzYhw</td>\n",
       "      <td>We are getting reports that 11 people have bee...</td>\n",
       "      <td>Thailand Cave rescue: '11th person brought out...</td>\n",
       "      <td>05:04</td>\n",
       "      <td>00:00</td>\n",
       "      <td>True</td>\n",
       "      <td>We are getting reports that 11 people have bee...</td>\n",
       "      <td>1096</td>\n",
       "      <td>5701</td>\n",
       "      <td>4.47</td>\n",
       "      <td>1.82</td>\n",
       "      <td>2.28</td>\n",
       "      <td>1.40</td>\n",
       "    </tr>\n",
       "  </tbody>\n",
       "</table>\n",
       "</div>"
      ],
      "text/plain": [
       "   Id                  Tags                                 Youtube Link  \\\n",
       "0   1  Unscripted Broadcast  https://www.youtube.com/watch?v=9HPshG5IlcI   \n",
       "1   2  Unscripted Broadcast  https://www.youtube.com/watch?v=qmgVQlSzYhw   \n",
       "\n",
       "                                Reference Transcript  \\\n",
       "0  \\nLet's bring in Phil Mackie, who is there at ...   \n",
       "1  We are getting reports that 11 people have bee...   \n",
       "\n",
       "                                              Title  Duration  Start  \\\n",
       "0        Trump arrives at Blenheim Palace - BBC News    04:57  00:45   \n",
       "1  Thailand Cave rescue: '11th person brought out...    05:04  00:00   \n",
       "\n",
       "   Availability                                  Amazon Transcript  \\\n",
       "0          True  Let's bring in Phil Mackie who is uh there at ...   \n",
       "1          True  We are getting reports that 11 people have bee...   \n",
       "\n",
       "   words_count  letter_count  cased_wer_1  cased_cer_1  uncased_wer_1  \\\n",
       "0          936          4977        11.54         5.42           7.16   \n",
       "1         1096          5701         4.47         1.82           2.28   \n",
       "\n",
       "   uncased_cer_1  \n",
       "0           4.54  \n",
       "1           1.40  "
      ]
     },
     "execution_count": 14,
     "metadata": {},
     "output_type": "execute_result"
    }
   ],
   "source": [
    "df.head(2)"
   ]
  },
  {
   "cell_type": "markdown",
   "id": "e526fee7",
   "metadata": {},
   "source": [
    "Visual evaluation"
   ]
  },
  {
   "cell_type": "code",
   "execution_count": 15,
   "id": "e591eb94",
   "metadata": {},
   "outputs": [
    {
     "data": {
      "text/html": [
       "<div>\n",
       "<style scoped>\n",
       "    .dataframe tbody tr th:only-of-type {\n",
       "        vertical-align: middle;\n",
       "    }\n",
       "\n",
       "    .dataframe tbody tr th {\n",
       "        vertical-align: top;\n",
       "    }\n",
       "\n",
       "    .dataframe thead th {\n",
       "        text-align: right;\n",
       "    }\n",
       "</style>\n",
       "<table border=\"1\" class=\"dataframe\">\n",
       "  <thead>\n",
       "    <tr style=\"text-align: right;\">\n",
       "      <th></th>\n",
       "      <th>Meeting</th>\n",
       "      <th>Phone</th>\n",
       "      <th>Scripted Broadcast</th>\n",
       "      <th>Unscripted Broadcast</th>\n",
       "    </tr>\n",
       "  </thead>\n",
       "  <tbody>\n",
       "    <tr>\n",
       "      <th>cased_wwer_1</th>\n",
       "      <td>16.55</td>\n",
       "      <td>16.35</td>\n",
       "      <td>8.34</td>\n",
       "      <td>13.27</td>\n",
       "    </tr>\n",
       "    <tr>\n",
       "      <th>cased_wcer_1</th>\n",
       "      <td>8.57</td>\n",
       "      <td>9.04</td>\n",
       "      <td>2.37</td>\n",
       "      <td>6.89</td>\n",
       "    </tr>\n",
       "    <tr>\n",
       "      <th>uncased_wwer_1</th>\n",
       "      <td>11.66</td>\n",
       "      <td>12.20</td>\n",
       "      <td>3.01</td>\n",
       "      <td>8.48</td>\n",
       "    </tr>\n",
       "    <tr>\n",
       "      <th>uncased_wcer_1</th>\n",
       "      <td>7.47</td>\n",
       "      <td>8.09</td>\n",
       "      <td>1.33</td>\n",
       "      <td>5.82</td>\n",
       "    </tr>\n",
       "  </tbody>\n",
       "</table>\n",
       "</div>"
      ],
      "text/plain": [
       "                Meeting  Phone  Scripted Broadcast  Unscripted Broadcast\n",
       "cased_wwer_1      16.55  16.35                8.34                 13.27\n",
       "cased_wcer_1       8.57   9.04                2.37                  6.89\n",
       "uncased_wwer_1    11.66  12.20                3.01                  8.48\n",
       "uncased_wcer_1     7.47   8.09                1.33                  5.82"
      ]
     },
     "metadata": {},
     "output_type": "display_data"
    },
    {
     "data": {
      "image/png": "[encoded data removed]",
      "text/plain": [
       "<Figure size 1500x1000 with 4 Axes>"
      ]
     },
     "metadata": {},
     "output_type": "display_data"
    }
   ],
   "source": [
    "metric_cols = ['cased_wer_1', 'cased_cer_1', 'uncased_wer_1', 'uncased_cer_1']\n",
    "weighted_cols = ['cased_wwer_1', 'cased_wcer_1', 'uncased_wwer_1', 'uncased_wcer_1']\n",
    "df_evaluate = df[['Id', 'Tags', 'words_count', 'letter_count'] + metric_cols]\n",
    "\n",
    "# Using groupby to calculate weighted WER for each group\n",
    "grouped_df = defaultdict(list)\n",
    "grouped = df_evaluate.groupby('Tags')\n",
    "\n",
    "for group_name, group_df in grouped:\n",
    "    for col in metric_cols:\n",
    "        if col.split(\"_\")[1] == \"cer\":\n",
    "            group_weights = group_df['letter_count'].tolist()\n",
    "        else:\n",
    "            group_weights = group_df['words_count'].tolist()\n",
    "        group_wers = group_df[col].tolist()\n",
    "        group_wwer = weighted_wer(group_weights, group_wers)\n",
    "        grouped_df[group_name].append(group_wwer)\n",
    "result_df = pd.DataFrame(dict(grouped_df), index=weighted_cols)\n",
    "display(result_df)\n",
    "\n",
    "# Plotting distributions\n",
    "fig, axs = plt.subplots(2, 2, figsize=(15, 10))\n",
    "fig.suptitle(\"\"\"Distributions of Word Error Rate and Character Error Rate\n",
    "             For Different Types of Scripts\"\"\", fontsize=16)\n",
    "for ax, col in zip(axs.flatten(), metric_cols):\n",
    "    sns.boxplot(data=df_evaluate, x=col, y='Tags', ax=ax)\n",
    "    ax.set(title=f'{\" \".join(col.split(\"_\")[:2]).upper()}',\n",
    "           xlabel='',\n",
    "           ylabel='')\n",
    "plt.subplots_adjust(hspace=0.3, wspace=0.5)\n",
    "plt.show()\n"
   ]
  },
  {
   "cell_type": "markdown",
   "id": "b12189fb",
   "metadata": {},
   "source": [
    "* Scripted Broadcast is the easiest audio to transcribe with on average 1 letter mistake per 100 letters and 3 words per 100 in uncased transcript\n",
    "* Unscripted Broadcast makes almost 9 mistakes for uncased words and every 6 letteres\n",
    "* Phoncalls and meetings are harder for the model with quite high dependance of audio quality, the number of speekers \n",
    "\n",
    "Let's inspect the Unscripted data that was particullary hard."
   ]
  },
  {
   "cell_type": "code",
   "execution_count": 16,
   "id": "8f59aa70",
   "metadata": {},
   "outputs": [
    {
     "data": {
      "text/html": [
       "<div>\n",
       "<style scoped>\n",
       "    .dataframe tbody tr th:only-of-type {\n",
       "        vertical-align: middle;\n",
       "    }\n",
       "\n",
       "    .dataframe tbody tr th {\n",
       "        vertical-align: top;\n",
       "    }\n",
       "\n",
       "    .dataframe thead th {\n",
       "        text-align: right;\n",
       "    }\n",
       "</style>\n",
       "<table border=\"1\" class=\"dataframe\">\n",
       "  <thead>\n",
       "    <tr style=\"text-align: right;\">\n",
       "      <th></th>\n",
       "      <th>Id</th>\n",
       "      <th>Tags</th>\n",
       "      <th>Youtube Link</th>\n",
       "      <th>Reference Transcript</th>\n",
       "      <th>Title</th>\n",
       "      <th>Duration</th>\n",
       "      <th>Start</th>\n",
       "      <th>Availability</th>\n",
       "      <th>Amazon Transcript</th>\n",
       "      <th>words_count</th>\n",
       "      <th>letter_count</th>\n",
       "      <th>cased_wer_1</th>\n",
       "      <th>cased_cer_1</th>\n",
       "      <th>uncased_wer_1</th>\n",
       "      <th>uncased_cer_1</th>\n",
       "    </tr>\n",
       "  </thead>\n",
       "  <tbody>\n",
       "    <tr>\n",
       "      <th>12</th>\n",
       "      <td>13</td>\n",
       "      <td>Unscripted Broadcast</td>\n",
       "      <td>https://www.youtube.com/watch?v=UtzQoq3Ln68</td>\n",
       "      <td>Right now guys, start your web and let's talk ...</td>\n",
       "      <td>Podcast #185 - Drunk Stories</td>\n",
       "      <td>04:27</td>\n",
       "      <td>00:22</td>\n",
       "      <td>True</td>\n",
       "      <td>Right now, guys, start your website that you a...</td>\n",
       "      <td>776</td>\n",
       "      <td>3931</td>\n",
       "      <td>32.22</td>\n",
       "      <td>20.38</td>\n",
       "      <td>26.80</td>\n",
       "      <td>18.9</td>\n",
       "    </tr>\n",
       "    <tr>\n",
       "      <th>13</th>\n",
       "      <td>14</td>\n",
       "      <td>Unscripted Broadcast</td>\n",
       "      <td>https://www.youtube.com/watch?v=r8NW2gszhbc</td>\n",
       "      <td>People are so mad about like monetization and ...</td>\n",
       "      <td>Off The Pill Podcast - Real Ghost Stories!? (f...</td>\n",
       "      <td>04:56</td>\n",
       "      <td>00:00</td>\n",
       "      <td>True</td>\n",
       "      <td>People are so mad about like monetization and ...</td>\n",
       "      <td>1052</td>\n",
       "      <td>5250</td>\n",
       "      <td>24.05</td>\n",
       "      <td>15.81</td>\n",
       "      <td>17.87</td>\n",
       "      <td>14.4</td>\n",
       "    </tr>\n",
       "  </tbody>\n",
       "</table>\n",
       "</div>"
      ],
      "text/plain": [
       "    Id                  Tags                                 Youtube Link  \\\n",
       "12  13  Unscripted Broadcast  https://www.youtube.com/watch?v=UtzQoq3Ln68   \n",
       "13  14  Unscripted Broadcast  https://www.youtube.com/watch?v=r8NW2gszhbc   \n",
       "\n",
       "                                 Reference Transcript  \\\n",
       "12  Right now guys, start your web and let's talk ...   \n",
       "13  People are so mad about like monetization and ...   \n",
       "\n",
       "                                               Title  Duration  Start  \\\n",
       "12                       Podcast #185 - Drunk Stories    04:27  00:22   \n",
       "13  Off The Pill Podcast - Real Ghost Stories!? (f...    04:56  00:00   \n",
       "\n",
       "    Availability                                  Amazon Transcript  \\\n",
       "12          True  Right now, guys, start your website that you a...   \n",
       "13          True  People are so mad about like monetization and ...   \n",
       "\n",
       "    words_count  letter_count  cased_wer_1  cased_cer_1  uncased_wer_1  \\\n",
       "12          776          3931        32.22        20.38          26.80   \n",
       "13         1052          5250        24.05        15.81          17.87   \n",
       "\n",
       "    uncased_cer_1  \n",
       "12           18.9  \n",
       "13           14.4  "
      ]
     },
     "execution_count": 16,
     "metadata": {},
     "output_type": "execute_result"
    }
   ],
   "source": [
    "df.loc[(df['cased_wer_1'] > 20) & (df['Tags']=='Unscripted Broadcast')]"
   ]
  },
  {
   "cell_type": "markdown",
   "id": "6cda4148",
   "metadata": {},
   "source": [
    "Both of them contain quite a few links that the model was unable to recognize, a music in the background, two people talking at the same time and topic specific words. Adding those words to model vocabluary potentially can improve predictions."
   ]
  },
  {
   "cell_type": "markdown",
   "id": "b5347b07",
   "metadata": {},
   "source": [
    "Overall performance"
   ]
  },
  {
   "cell_type": "code",
   "execution_count": 17,
   "id": "8765142d",
   "metadata": {},
   "outputs": [
    {
     "name": "stdout",
     "output_type": "stream",
     "text": [
      "Cased Word Error Rate: 13.79\n",
      "Uncased Word Error Rate: 9.04\n",
      "Cased Character Error Rate: 6.86\n",
      "Uncased Character Error Rate: 5.82\n"
     ]
    }
   ],
   "source": [
    "print(f\"Cased Word Error Rate: {weighted_wer(df['words_count'].tolist(), df['cased_wer_1'].tolist())}\")\n",
    "print(f\"Uncased Word Error Rate: {weighted_wer(df['words_count'].tolist(), df['uncased_wer_1'].tolist())}\")\n",
    "print(f\"Cased Character Error Rate: {weighted_wer(df['letter_count'].tolist(), df['cased_cer_1'].tolist())}\")\n",
    "print(f\"Uncased Character Error Rate: {weighted_wer(df['letter_count'].tolist(), df['uncased_cer_1'].tolist())}\")"
   ]
  },
  {
   "cell_type": "markdown",
   "id": "8b3a4503",
   "metadata": {},
   "source": [
    "When we don't take into consideration punctuation (which is quite subjective) and case of the letters the model make 9 mistakes per 100 words and 6 mistakes per 100 letters. When we take into consideration also beginning of sentences and the names of objects or people the Word Error Rate equals 14/100 and Character Error Rate 7/100."
   ]
  },
  {
   "cell_type": "markdown",
   "id": "98d4cd0e",
   "metadata": {},
   "source": [
    "## Improvement of the model"
   ]
  },
  {
   "cell_type": "markdown",
   "id": "8ada3916",
   "metadata": {},
   "source": [
    "Through analysis of missed words and comparison side by side the ground true scripts and transcription, there were visable some of the problems the model encountered:\n",
    "* hyphened words but the sense stayed the same - this problem was tackled in the normalization step: sweet-lips -> sweet lips\n",
    "* topic specific words like: Aesope's Fables, iCloud, bistables\n",
    "* names of people taking part in the meeting: Chachki, Ladonna Hunton (here we need to note that the ground true can also be wrong unless the names were specified in the video description)\n",
    "* names of organisations and products: Nyxio, Vioware\n",
    "* spoken language phrases: heck, brat, cause, okay\n",
    "* websites linkes: squarespace.com\n",
    "The vocabulary will be created based on observations. We must remember that it grabs the phrases from the sample which will increase bias. Knowing the consumers of the developement we should either use the specific language used and create vocabulary or train the model with the set of text that is specific for consumers (the service is not included in the FreeTier).\n",
    "\n",
    "For the purpose of this project we will pick up specific words that the model had problem with. Around 200 phrases were identified and stored in custom_vocab.csv"
   ]
  },
  {
   "cell_type": "code",
   "execution_count": 18,
   "id": "65cfab75",
   "metadata": {},
   "outputs": [],
   "source": [
    "with open('custom_vocab.txt', 'r') as file:\n",
    "    custom_vocab = [line.strip() for line in file.readlines()]\n",
    "    \n",
    "output_folder = 'transcriptionsimproved/'\n",
    "transcribe_csv = 'data/transcriptimporved.csv'\n",
    "version = \"C\"  \n",
    "vocabulary_name = 'customvocab'\n",
    "phrases = custom_vocab"
   ]
  },
  {
   "cell_type": "code",
   "execution_count": 19,
   "id": "737eb455",
   "metadata": {},
   "outputs": [],
   "source": [
    "check_assertions(input_folder, output_folder, version, format)"
   ]
  },
  {
   "cell_type": "code",
   "execution_count": null,
   "id": "4a78ec68",
   "metadata": {},
   "outputs": [
    {
     "name": "stdout",
     "output_type": "stream",
     "text": [
      "   Id                                  Amazon Transcript\n",
      "0   1  Let's bring in Phil Mackie who is uh there at ...\n",
      "1  10  Do you think Mr LeBron James will be patient e...\n",
      "2  11  Where does James Harden rank as a player? Not ...\n",
      "3  12  Welcome to the Undisputed podcast. I'm your ho...\n",
      "4  13  Right now, guys, start your website that you a...\n"
     ]
    }
   ],
   "source": [
    "# create_vocabulary(vocabulary_name, lang_code, transcribe_client, phrases)\n",
    "# job_count = transcribe_folder(s3_client, transcribe_client, bucket_name, \n",
    "#               input_folder, output_folder, lang_code, format, version, vocabulary_name)\n",
    "# download_folder(s3_client, bucket_name, output_folder, job_count)\n",
    "# transcripts_to_csv(output_folder, transcribe_csv)"
   ]
  },
  {
   "cell_type": "code",
   "execution_count": 20,
   "id": "b906aa9a",
   "metadata": {},
   "outputs": [],
   "source": [
    "trans_improved = pd.read_csv(\"data/transcriptimporved.csv\") \\\n",
    "    .rename(columns={'Amazon Transcript': 'Amazon Transcript Improved'})\n",
    "df = pd.merge(df, trans_improved, on='Id')\n"
   ]
  },
  {
   "cell_type": "code",
   "execution_count": 21,
   "id": "e095e205",
   "metadata": {},
   "outputs": [],
   "source": [
    "# Calculating CER and WER\n",
    "df['cased_wer_2'] = df.apply(lambda row: calculate_wer(row['Reference Transcript'], \n",
    "                                                       row['Amazon Transcript Improved'],\n",
    "                                                       replacements, to_remove, True), axis=1)\n",
    "df['cased_cer_2'] = df.apply(lambda row: calculate_cer(row['Reference Transcript'], \n",
    "                                                       row['Amazon Transcript Improved'],\n",
    "                                                       replacements, to_remove, True), axis=1)\n",
    "df['uncased_wer_2'] = df.apply(lambda row: calculate_wer(row['Reference Transcript'], \n",
    "                                                         row['Amazon Transcript Improved'],\n",
    "                                                         replacements, to_remove, False), axis=1)\n",
    "df['uncased_cer_2'] = df.apply(lambda row: calculate_cer(row['Reference Transcript'], \n",
    "                                                         row['Amazon Transcript Improved'],\n",
    "                                                         replacements, to_remove, False), axis=1)"
   ]
  },
  {
   "cell_type": "code",
   "execution_count": 22,
   "id": "72378f84",
   "metadata": {},
   "outputs": [
    {
     "name": "stdout",
     "output_type": "stream",
     "text": [
      "Cased Word Error Rate: 13.75\n",
      "Uncased Word Error Rate: 9.02\n",
      "Cased Character Error Rate: 6.91\n",
      "Uncased Character Error Rate: 5.9\n"
     ]
    }
   ],
   "source": [
    "print(f\"Cased Word Error Rate: {weighted_wer(df['words_count'].tolist(), df['cased_wer_2'].tolist())}\")\n",
    "print(f\"Uncased Word Error Rate: {weighted_wer(df['words_count'].tolist(), df['uncased_wer_2'].tolist())}\")\n",
    "print(f\"Cased Character Error Rate: {weighted_wer(df['letter_count'].tolist(), df['cased_cer_2'].tolist())}\")\n",
    "print(f\"Uncased Character Error Rate: {weighted_wer(df['letter_count'].tolist(), df['uncased_cer_2'].tolist())}\")"
   ]
  },
  {
   "cell_type": "markdown",
   "id": "7cea4ab4",
   "metadata": {},
   "source": [
    "Previous output \n",
    "\n",
    "* Cased Word Error Rate: 13.79\n",
    "* Uncased Word Error Rate: 9.04\n",
    "* Cased Character Error Rate: 6.86\n",
    "* Uncased Character Error Rate: 5.82\n",
    "\n",
    "Let's see how many phrases from custom vocabulary used in the transcript and what is the actual size of the corpus."
   ]
  },
  {
   "cell_type": "code",
   "execution_count": 23,
   "id": "5b6ba5fe",
   "metadata": {},
   "outputs": [
    {
     "name": "stdout",
     "output_type": "stream",
     "text": [
      "The transcribtion jobs were enriched by 108 phrases from custom vocabulary.\n",
      "Number of words in the corpus: 36736\n"
     ]
    }
   ],
   "source": [
    "result_string = ' '.join(df['Amazon Transcript Improved'].tolist())\n",
    "count = 0\n",
    "for phrase in phrases:\n",
    "    if phrase in result_string:\n",
    "        count += 1\n",
    "print(f'The transcribtion jobs were enriched by {count} phrases from custom vocabulary.')\n",
    "print(f'Number of words in the corpus: {df[\"words_count\"].sum()}')"
   ]
  },
  {
   "cell_type": "markdown",
   "id": "0a9a3eb2",
   "metadata": {},
   "source": [
    "And see some of the words that were missed."
   ]
  },
  {
   "cell_type": "code",
   "execution_count": 24,
   "id": "cb0e4a64",
   "metadata": {},
   "outputs": [
    {
     "name": "stdout",
     "output_type": "stream",
     "text": [
      "1: {'noticed', 'coordinated', 'cant', 'mast', 'divisions', '10s', 'brands', 'too', 'minibuses', 'joes', 'residence', 'cabinets', 'wants', 'hustle', 'audiences',\n",
      " 'did', 'vips', 'mercurial'}\n",
      "\n",
      "2: {'luang', 'd', 'set', 'under', 'tham', '9th', 'cavern'}\n",
      "\n",
      "3: {'strong', 'very', 'into', 'gotta', 'clothes', 'sure', 'cause', 'hers', 'shoes', 'beginning', 'character', 'leave', 'by'}\n",
      "\n",
      "4: {'yes', 'em', 'whe', 'pro', 'health', 'choice'}\n",
      "\n",
      "5: {'nineteen', 'like', 'crimin', 'fourteenth', 'im', 'capital', 'berger', 'rodgers', 'thetre', 'such', 'your', 'happening', 'rules'}\n",
      "\n",
      "6: {'keep', 'report', 'thatll', 'acc', 'germanys', 'realize', 'maker', 'denouement', 'forum'}\n",
      "\n",
      "7: {'wouldve', 'hitch', 'someone', 'shouldve', 'lot', 'stopped', 'goal', 'onto', 'set', 'probably', 'coach', 'lier', 'wilton', 'shove', 'good', 'paris', 'really\n",
      "', 'perišić', 'gav', 'keeper', 'apparently', 'placement'}\n",
      "\n",
      "8: {'surpri', 'happen', 'lead', 'bostons', 'kuzmo', 'post', 'bergie', 'kemba', 'lonzo', 'scorers', 'modern', 'offensively', 'develop', 'etc', 'suped', 'cousins'\n",
      ", 'eve', 'handlers', 'dudes', 'horfored'}\n",
      "\n",
      "9: {'diamond', '7', 'too', '1', 'verse', 'mascherano', '0', 'zip', 'high', 'difference', 'ballon', 'usas', 'dors', 'albiceleste', '8', '3', '4', 'dominate', 'ri\n",
      "val', '80th', 'shove', 'card', 'overtime', '2', 'herzegovina'}\n",
      "\n",
      "10: {'then', 'bit', 'makes', 'hurry', 'room', 'lets', 'since', 'rocker', 'quiet'}\n",
      "\n"
     ]
    }
   ],
   "source": [
    "for i in df['Id'].tolist()[:10]:\n",
    "    y_hat = clean_text(df.loc[df['Id']==i]['Amazon Transcript Improved'].values[0], replacements, to_remove, False)\n",
    "    y = clean_text(df.loc[df['Id']==i]['Reference Transcript'].values[0], replacements, to_remove, False)\n",
    "    common, missing, extra = compare_words(y.split(), y_hat.split())\n",
    "    print_to_width(f\"{i}: {missing}\", 160)\n"
   ]
  },
  {
   "cell_type": "markdown",
   "id": "3ba4d798",
   "metadata": {},
   "source": [
    "Also the example of the hardest transcript so far."
   ]
  },
  {
   "cell_type": "code",
   "execution_count": 25,
   "id": "b0730d2a",
   "metadata": {},
   "outputs": [
    {
     "name": "stdout",
     "output_type": "stream",
     "text": [
      "|-------------------------------------------------------------------------------------------------------------------------------------------------------------------|\n",
      "|                              Reference Transcript                              |                           Amazon Transcript Improved                             |\n",
      "|-------------------------------------------------------------------------------------------------------------------------------------------------------------------|\n",
      "right now guys start your web and lets talk about _______ ____ ___ ______ ____   | right now guys start your ___ ___ ____ ____ _____ website that you always want   | \n",
      "__ _____ __ going to sqarespacecomjennajulien _________________________ save 10  | to start by going to ________________________ squarespacecomjennajulien save 10  | \n",
      "of your first purchase of a website or domain squarespace has 247 __ _ customer  | of your first purchase of a website or domain squarespace has ___ 24 7 customer  | \n",
      "support and many different templates to help you start your dream website you    | support and many different templates to help you start your dream website you    | \n",
      "will not be disappointed also guys quick ____ the wonderful toothbrush system    | will not be disappointed also guys _____ quip the wonderful toothbrush system    | \n",
      "that lives in the future alongside you they send you refills every month of      | that lives in the future alongside you they send you refills every month of      | \n",
      "brush heads and right now guys it starts at just 25 and you can get your refill  | brush heads and right now guys it starts at just 25 and you can get your refill  | \n",
      "first on us thats what ___ i am talking about your first refill of the _ brush   | first on us thats ____ all i am talking about your first refill of ___ a brush   | \n",
      "head for free because you watched _____ this podcast go to getquipcomj           | head for free because you _______ watch this podcast go to ___________           | \n",
      "ennajulien ___ _______ thats getquipcomjennajulien or ___ _________ click the    | __________ get quipcom thats _____________________ __ get quipcomor click the    | \n",
      "link in the description i dont even know like where to look at you because       | link in the description i dont even know ____ where to look at you _______       | \n",
      "_____ i cant see your eyes i like that stop youre making meno no all right       | cause i cant see your eyes i like that ____ _____ ______ ____ __ ___ _____       | \n",
      "_____ ___ _____ __ ____ ___ __ ___ __ ___ __ all right all right youre going to  | start you gotta be boop get it get it get it all right all right youre going to  | \n",
      "scare bob all right all right bob we will leave it right there you have ___      | scare bob all right ___ _____ bob __ ____ _____ __ _____ _____ ___ ____ you      | \n",
      "scared him by setting it down we will leave it right there he is nervous now he  | scared him by setting it down __ ____ _____ __ _____ _____ he is nervous now he  | \n",
      "is just a little baa ____ goose i got to _____ adjust myself also guys we want   | is just a little ___ baba goose i ___ __ gotta adjust myself also guys we want   | \n",
      "to give a quick special shout out to our friends at steelseries _____ ______     | to give a quick special shout out to our friends at ___________ steel series     | \n",
      "who have provided us with the ultimate gaming materials for all of our push      | who have provided us with the ultimate gaming materials for all of our ____      | \n",
      "______ streams and gaming needs they have officially partnered with our twitch   | twitch streams and gaming needs they have officially partnered with our twitch   | \n",
      "channel we are steelseries _____ ______ sponsored streamers now it is cuz        | channel we are ___________ steel series sponsored streamers now it is ___        | \n",
      "_______ were esports it is based on skill alone my skill has made it so ___      | because were esports it is based on skill alone my skill has made it so you      | \n",
      "____ ____ up next __ i am going to get assigned have you been scouted wow        | know next up next is i am going to get ________ ____ ___ ____ _______ ___        | \n",
      "______ to an esports team for sure before we get look out shroud guys want to    | signed to an esports team for sure ______ __ ___ look out shroud guys want to    | \n",
      "say seriously thank you to steelseries if you are _____ needing any sort of      | say seriously thank you to steelseries if ___ ___ youre needing any sort of      | \n",
      "gaming equipment headset mouse keyboard other headset other mouse i dont know    | gaming equipment headset mouse keyboard other headset other mouse i dont know    | \n",
      "what you need steelseries _____ ______ has some of the best gaming equipment     | what you need ___________ steel series has some of the best gaming equipment     | \n",
      "and peripherals you can buy and you can save 10 on us my voice just cracked by   | and peripherals you can buy and you can save 10 on us my voice just cracked by   | \n",
      "using code jennajulien10 _____ ______ __ thats all unofficially all right thank  | using code _____________ genna julien 10 thats all unofficially ___ _____ thank  | \n",
      "you guys we want to give you a special shout out because you guys are awesome    | you guys we want to give you a special shout out because you guys are awesome    | \n",
      "all right your daughters being a brat well you always want to let them in the    | all right your daughters being a brat ____ you always want to let them in the    | \n",
      "podcast i like it when theyre here and i always say no it is fun it is fun       | podcast _ ____ __ ____ ______ ____ ___ i always say no it is fun it is fun       | \n",
      "chaos look at her she just wants to walk around if you step on the keyboard and  | chaos look at her she just wants to walk ______ __ ___ ____ on the keyboard and  | \n",
      "stop the podcast youre going to be in trouble lady come here just dont step on   | stop the podcast youre going to be in trouble lady ____ ____ just dont step on   | \n",
      "the keyboard little ___ ____ what are you doing what are you doing what are you  | the keyboard little guy yell what are you doing what are you doing what are you  | \n",
      "doing my god can you hear yourself hi peach can you hear me peach ____ my god    | doing my god can you hear ________ __ _____ can you hear me _____ pete my god    | \n",
      "look at her face when she is listening do ____ it hi peachie ______ girl wow     | look at her face when she is listening __ dude it hi _______ peachy girl ___     | \n",
      "shes like what is that noise you dont know what that noise is it is probably     | ____ ____ what is that noise ___ ____ ____ ____ ____ _____ __ __ __ ________     | \n",
      "really loud for her ears she is a dog is that what she is i didnt know what ___  | really loud for her ears she is a dog is that what she is i didnt know what she  | \n",
      "was all these years thank you for telling me t youre _ shit t are you going to   | was all these years thank you for telling me t youre a shit t are you going to   | \n",
      "sit there the whole time is that how it is ____ _ ___ going to go we used to     | sit there the whole time __ ____ ___ __ __ that i was going to go we ____ __     | \n",
      "____ went out __ ______ for dinner juliens _______ brothers birthday marlins     | just went out to dinner for ______ _______ julians brothers birthday _______     | \n",
      "_______ birthday happy birthday marlin ____ __ ___ heck and __ may you forever   | marlons birthday happy birthday ______ mall in the heck ___ or may you forever   | \n",
      "heck on what day is his actual birthday it is the day the podcast comes out the  | heck on what day is his actual birthday __ __ the day the podcast comes out the  | \n",
      "7th _______ ok whats his sign whatever it is right now what is it i dont know    | ___ seventh ok whats his sign whatever it is right now what is it i dont know    | \n",
      "the bug what month ____ ____ is it is may 7th so thats his birthday hey google   | the ___ ____ _____ book what is it is may 7th so thats his birthday hey google   | \n",
      "what sign is may 7th on the website com they say that taurus ok marlin is the    | what sign is may 7th __ ___ _______ ___ ____ ___ ____ taurus ok ______ __ ___    | \n",
      "____ ______ __ _ taurus all right then what is the ____ __ _ taurus are you a    | yeah marlon is a taurus all right ____ ____ __ ___ what is a taurus ___ ___ _    | \n",
      "taurus ____ _ _______ no kinda ____ __ just like even keeled and calm ______ he  | ______ just a tourist no _____ kind of just like even ______ ___ ____ killed he  | \n",
      "is the most theres more than that even keeled ______ guy i have ever met why is  | is the most ______ ____ ____ ____ even ______ killed guy i have ever met why is  | \n",
      "that so accurate dependable i dont know its __ __ like stupid i know i feel      | that so ________ __________ i dont know ___ it is like stupid i know i feel      | \n",
      "like all the people ____ just write it off as nonsense ____ thats fine youre     | like all the people that just write it off as nonsense like thats fine youre     | \n",
      "entitled to that i used to do that it is fine we have talked about that it is    | entitled to that _ ____ __ __ ____ __ __ ____ __ ____ ______ _____ ____ __ __    | \n",
      "just crazy every single when you turn into an adult ____ __ __ ____ you realize  | ____ _____ _____ ______ when you turn into an adult yeah it is like you realize  | \n",
      "things about people youre like “wow ___ that actually for some reason makes a    | things about people youre like ____ wow that actually for some reason makes a    | \n",
      "lot of sense yeah you just like take on the qualities of your kind i am a virgo  | lot of sense yeah you just like take on the qualities of your kind i am a virgo  | \n",
      "youre a virgo yeah man these beats _____ welcome to my channel it is aries       | youre a virgo ____ ___ _____ _____ beach welcome to my channel it is _____       | \n",
      "_____ season no we wanted tofirst __ ___ _____ of all something wild happened    | every season no we wanted _______ to the first of all something wild happened    | \n",
      "and stop __                                                                      | ___ ____ at                                                                      | \n"
     ]
    }
   ],
   "source": [
    "y_hat = clean_text(df.loc[df['Id']==13]['Amazon Transcript Improved'].values[0], replacements, to_remove, False)\n",
    "y = clean_text(df.loc[df['Id']==13]['Reference Transcript'].values[0], replacements, to_remove, False)\n",
    "print_centered_columns(['Reference Transcript', 'Amazon Transcript Improved'], width=80)\n",
    "show_comparison(y, y_hat, width=80, sidebyside=True, compact=False)"
   ]
  },
  {
   "cell_type": "markdown",
   "id": "ff657d3f",
   "metadata": {},
   "source": [
    "With an easy operation let's see how many of the words from custom vocabulary was included in the improved transcription."
   ]
  },
  {
   "cell_type": "markdown",
   "id": "16d250c9",
   "metadata": {},
   "source": [
    "## Conclusions"
   ]
  },
  {
   "cell_type": "markdown",
   "id": "3e2cb16d",
   "metadata": {},
   "source": [
    "Phrases from Vocabulary:\n",
    "* Slightly more than half of the phrases from the vocabulary were incorporated into the transcript.\n",
    "\n",
    "WER and CER Improvement:\n",
    "\n",
    "* While Word Error Rate (WER) showed a slight improvement, Character Error Rate (CER) slightly worsened. It's worth investigating if these changes have statistical significance through appropriate tests.\n",
    "\n",
    "Web Addresses:\n",
    "\n",
    "* Consider utilizing a table format based on the provided CV-template for web addresses, as the previously specified ones did not yield any value.\n",
    "\n",
    "Names and International Phonetic Alphabet (IPA):\n",
    "\n",
    "* Utilizing the International Phonetic Alphabet for names could be more beneficial. However, it's important to note that we shouldn't be overly confident about the accuracy of ground truth names, as illustrated in the basketball players' example.\n",
    "\n",
    "Numbers and Inconsistencies:\n",
    "\n",
    "* Issues persist with numbers and inconsistencies in how both the model and human transcribe them.\n",
    "\n",
    "Acronyms:\n",
    "\n",
    "* Recognition of acronyms varied; some were correctly identified when read as words, while others were incorrectly transcribed when spelled out."
   ]
  },
  {
   "cell_type": "markdown",
   "id": "c6e39dfb",
   "metadata": {},
   "source": [
    "## Improvements\n",
    "\n",
    "* Evaluating performance using a custom vocabulary table with IPA from sources like https://www.englishtools.org/en/convert-english-words-into-ipa-phonetic-alphabet. The transcriptions in the free tier cover only 60 minutes per month, but our dataset encompasses approximately 230 minutes. The cost of one transcription job for this dataset is $5.52 (0.024$/min)\n",
    "* The collection of a field-specific corpus of data and retraining the model is not applicable with our current dataset.\n",
    "* Implementing noise reduction with a library such as noisereduce."
   ]
  }
 ],
 "metadata": {
  "kernelspec": {
   "display_name": "Python 3 (ipykernel)",
   "language": "python",
   "name": "python3"
  },
  "language_info": {
   "codemirror_mode": {
    "name": "ipython",
    "version": 3
   },
   "file_extension": ".py",
   "mimetype": "text/x-python",
   "name": "python",
   "nbconvert_exporter": "python",
   "pygments_lexer": "ipython3",
   "version": "3.10.11"
  }
 },
 "nbformat": 4,
 "nbformat_minor": 5
}
